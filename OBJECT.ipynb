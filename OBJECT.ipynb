{
 "cells": [
  {
   "cell_type": "code",
   "execution_count": 1,
   "id": "b4d17d7d",
   "metadata": {},
   "outputs": [],
   "source": [
    "import numpy as np\n",
    "import pandas as pd\n",
    "import yfinance as yf\n",
    "import matplotlib.pyplot as plt\n",
    "import datetime \n"
   ]
  },
  {
   "cell_type": "code",
   "execution_count": 2,
   "id": "82d2a898",
   "metadata": {},
   "outputs": [],
   "source": [
    "class student:\n",
    "    goal = \"Get! educated\"\n",
    "    \n",
    "    @classmethod\n",
    "    def life_fs(cls):\n",
    "        print(cls.goal)\n",
    "        print( \"How it is possible\")\n",
    "        \n",
    "        \n",
    "        "
   ]
  },
  {
   "cell_type": "code",
   "execution_count": 3,
   "id": "ffbd3d78",
   "metadata": {},
   "outputs": [],
   "source": [
    "mahavir = student()"
   ]
  },
  {
   "cell_type": "code",
   "execution_count": 4,
   "id": "c19f47f1",
   "metadata": {},
   "outputs": [
    {
     "data": {
      "text/plain": [
       "'Get! educated'"
      ]
     },
     "execution_count": 4,
     "metadata": {},
     "output_type": "execute_result"
    }
   ],
   "source": [
    "mahavir.goal"
   ]
  },
  {
   "cell_type": "code",
   "execution_count": 5,
   "id": "fe8bb03a",
   "metadata": {},
   "outputs": [
    {
     "name": "stdout",
     "output_type": "stream",
     "text": [
      "Get! educated\n",
      "How it is possible\n"
     ]
    }
   ],
   "source": [
    "mahavir.life_fs()"
   ]
  },
  {
   "cell_type": "code",
   "execution_count": 6,
   "id": "06c5bb50",
   "metadata": {},
   "outputs": [],
   "source": [
    "class programmer:\n",
    "    compnay = \"MSFT\"\n",
    "    \n",
    "    def __init__(self,name,product):\n",
    "        self.name = name\n",
    "        self.product = product\n",
    "    def chutput(self):\n",
    "        print(f\"The name of the programmer,{self.name} and the product is {self.product}\")\n",
    "\n"
   ]
  },
  {
   "cell_type": "code",
   "execution_count": 7,
   "id": "3fe1859d",
   "metadata": {},
   "outputs": [],
   "source": [
    "mahavir = programmer(\"rajpurohit\",\"sharab\")\n",
    "ankita = programmer(\"fhosdh\",\"timepass\")\n"
   ]
  },
  {
   "cell_type": "code",
   "execution_count": 8,
   "id": "8f415d7d",
   "metadata": {},
   "outputs": [
    {
     "data": {
      "text/plain": [
       "'timepass'"
      ]
     },
     "execution_count": 8,
     "metadata": {},
     "output_type": "execute_result"
    }
   ],
   "source": [
    "ankita.product"
   ]
  },
  {
   "cell_type": "code",
   "execution_count": 9,
   "id": "6f69fd7a",
   "metadata": {},
   "outputs": [],
   "source": [
    "class calcu:\n",
    "    def __init__(self,numps):\n",
    "        self.numps = numps\n",
    "        \n",
    "    def square(self):\n",
    "        print(f\"The square {self.numps} is {self.numps ** 2}\")\n",
    "        \n",
    "    def squareRoot(self):\n",
    "        print(f\"the squaretoot is {self.numps} adf {self.numps ** 0.5}\")\n",
    "        \n",
    "    def cube(self):\n",
    "        print(f\"the cub os {self.numps} df {self.numps ** 3}\")\n",
    "        \n",
    "    @staticmethod\n",
    "    def greet():\n",
    "        print(\"How the fuck are you\")\n",
    "        \n",
    "        "
   ]
  },
  {
   "cell_type": "code",
   "execution_count": 10,
   "id": "991b6670",
   "metadata": {},
   "outputs": [],
   "source": [
    "a = calcu(3)"
   ]
  },
  {
   "cell_type": "code",
   "execution_count": 11,
   "id": "1d94e533",
   "metadata": {},
   "outputs": [
    {
     "name": "stdout",
     "output_type": "stream",
     "text": [
      "the squaretoot is 3 adf 1.7320508075688772\n"
     ]
    }
   ],
   "source": [
    "a.squareRoot()"
   ]
  },
  {
   "cell_type": "code",
   "execution_count": 12,
   "id": "0ade3798",
   "metadata": {},
   "outputs": [
    {
     "name": "stdout",
     "output_type": "stream",
     "text": [
      "How the fuck are you\n"
     ]
    }
   ],
   "source": [
    "a.greet()"
   ]
  },
  {
   "cell_type": "code",
   "execution_count": 13,
   "id": "1ba776bd",
   "metadata": {},
   "outputs": [],
   "source": [
    "class train:\n",
    "    def __init__(self,trainname,fair,seats):\n",
    "        self.trainname = trainname\n",
    "        self.fair = fair\n",
    "        self.seats = seats\n",
    "        \n",
    "    def get_status(self):\n",
    "        print(f\"The status of {self.seats}\")\n",
    "        print(f\"The status of {self.trainname}\")\n",
    "        \n",
    "    def book_tickets(self):\n",
    "        if (self.fair == 90 & self.seats == 300 ):\n",
    "            print(\"Booked\")\n",
    "        else:\n",
    "            print(\"Not Booked\")\n",
    "        \n",
    "        \n",
    "    \n",
    "    \n",
    "        \n",
    "    "
   ]
  },
  {
   "cell_type": "code",
   "execution_count": 14,
   "id": "03c0b9ca",
   "metadata": {},
   "outputs": [],
   "source": [
    "rajdhani = train(\"rajdhani\",90,300)"
   ]
  },
  {
   "cell_type": "code",
   "execution_count": 15,
   "id": "9713af2b",
   "metadata": {},
   "outputs": [
    {
     "name": "stdout",
     "output_type": "stream",
     "text": [
      "The status of 300\n",
      "The status of rajdhani\n"
     ]
    }
   ],
   "source": [
    "rajdhani.get_status()"
   ]
  },
  {
   "cell_type": "code",
   "execution_count": 16,
   "id": "5392f293",
   "metadata": {},
   "outputs": [
    {
     "name": "stdout",
     "output_type": "stream",
     "text": [
      "Not Booked\n"
     ]
    }
   ],
   "source": [
    "rajdhani.book_tickets()"
   ]
  },
  {
   "cell_type": "code",
   "execution_count": 17,
   "id": "576ac68e",
   "metadata": {},
   "outputs": [
    {
     "ename": "NameError",
     "evalue": "name 'backtest' is not defined",
     "output_type": "error",
     "traceback": [
      "\u001b[1;31m---------------------------------------------------------------------------\u001b[0m",
      "\u001b[1;31mNameError\u001b[0m                                 Traceback (most recent call last)",
      "Input \u001b[1;32mIn [17]\u001b[0m, in \u001b[0;36m<cell line: 5>\u001b[1;34m()\u001b[0m\n\u001b[0;32m      2\u001b[0m start \u001b[38;5;241m=\u001b[39m datetime\u001b[38;5;241m.\u001b[39mdate(\u001b[38;5;241m2019\u001b[39m,\u001b[38;5;241m1\u001b[39m,\u001b[38;5;241m1\u001b[39m)\n\u001b[0;32m      3\u001b[0m end \u001b[38;5;241m=\u001b[39m datetime\u001b[38;5;241m.\u001b[39mdate(\u001b[38;5;241m2022\u001b[39m,\u001b[38;5;241m12\u001b[39m,\u001b[38;5;241m12\u001b[39m)\n\u001b[1;32m----> 5\u001b[0m stock \u001b[38;5;241m=\u001b[39m \u001b[43mbacktest\u001b[49m(ticker,start,end,ma_s\u001b[38;5;241m=\u001b[39m\u001b[38;5;241m10\u001b[39m,ma_l\u001b[38;5;241m=\u001b[39m\u001b[38;5;241m20\u001b[39m)\n",
      "\u001b[1;31mNameError\u001b[0m: name 'backtest' is not defined"
     ]
    }
   ],
   "source": [
    "ticker = \"AAPL\"\n",
    "start = datetime.date(2019,1,1)\n",
    "end = datetime.date(2022,12,12)\n",
    "\n",
    "stock = backtest(ticker,start,end,ma_s=10,ma_l=20)"
   ]
  },
  {
   "cell_type": "code",
   "execution_count": null,
   "id": "5d1aea3c",
   "metadata": {},
   "outputs": [],
   "source": [
    "class backtester:\n",
    "    def __init__(self,ticker,start,end,ma_s,ma_l):\n",
    "        self.ticker = ticker\n",
    "        self.start = start\n",
    "        self.end = end\n",
    "        self.ma_s = ma_s\n",
    "        self.ma_l = ma_l\n",
    "        \n",
    "        self.fetch_data()\n",
    "        self.indicators()\n",
    "        self.signal()\n",
    "        self.position()\n",
    "        self.returns()\n",
    "        \n",
    "        \n",
    "    def fetch_data(self):\n",
    "        self.df = yf.download(self.ticker,self.start,self.end)\n",
    "        \n",
    "    def indicators(self):\n",
    "        self.df[\"SMA_S\"] = self.df[\"Adj Close\"].rolling(window = self.ma_s).mean()\n",
    "        self.df[\"SMA_l\"] = self.df[\"Adj Close\"].rolling(window = self.ma_l).mean()\n",
    "        self.df[\"SMA_S_prev\"] =  self.df[\"SMA_S\"].shift()\n",
    "        self.df[\"SMA_l_prev\"] = self.df[\"SMA_l\"].shift()\n",
    "        self.df.dropna(inplace = True)\n",
    "        \n",
    "    def signal(self):\n",
    "        self.df[\"signal\"] = np.where(self.df[\"SMA_S_prev\"] > self.df[\"SMA_l_prev\"],1,0 )\n",
    "        self.df[\"signals\"] = np.where(self.df[\"SMA_S_prev\"] < self.df[\"SMA_l_prev\"],1,self.df[\"signal\"] )\n",
    "        \n",
    "    def position(self):\n",
    "        self.df[\"position\"] = self.df[\"signals\"].replace(to_replace = 0 , method = \"ffill\" )\n",
    "        \n",
    "    def returns(self):\n",
    "        self.df[\"bnh\"] = np.log(self.df[\"Adj Close\"] / self.df[\"Adj Close\"].shift())\n",
    "        self.df[\"strategy_returns\"] = self.df[\"bnh\"] * self.df[\"position\"].shift()\n",
    "        print('Total return:',self.df['strategy_returns'].cumsum()[-1])\n",
    "        return self.df['strategy_returns'].cumsum()[-1]\n",
    "    \n",
    "    def analysis(self):\n",
    "        # A plot to check if the strategy is working as planned:\n",
    "        self.df[['ma_short','ma_long', 'position']].plot(figsize=(15, 6), secondary_y='position', grid=True)\n",
    "        plt.title('checking if positions are generated properly')\n",
    "        plt.show()\n",
    "        \n",
    "        self.df[['bnh_returns','strategy_returns']].cumsum().plot(figsize=(15, 6), secondary_y='position', grid=True)\n",
    "        plt.title(\"Buy & hold' vs 'crossover strategy' cumulative returns\")\n",
    "        plt.show()\n",
    "                 "
   ]
  },
  {
   "cell_type": "code",
   "execution_count": null,
   "id": "9a211170",
   "metadata": {},
   "outputs": [],
   "source": [
    "\n",
    "start = dt.datetime(2019,1,1)\n",
    "end = dt.datetime(2022,12,12)\n",
    "\n"
   ]
  },
  {
   "cell_type": "code",
   "execution_count": null,
   "id": "3f551c06",
   "metadata": {},
   "outputs": [],
   "source": [
    "stock = backtester(\"AAPL\",start,end,10,20)"
   ]
  },
  {
   "cell_type": "code",
   "execution_count": 24,
   "id": "88a9990c",
   "metadata": {},
   "outputs": [
    {
     "ename": "SyntaxError",
     "evalue": "invalid syntax (3626715608.py, line 24)",
     "output_type": "error",
     "traceback": [
      "\u001b[1;36m  Input \u001b[1;32mIn [24]\u001b[1;36m\u001b[0m\n\u001b[1;33m    self.STDS = = data[\"strategy_returns\"].std()*np.sqrt(252)\u001b[0m\n\u001b[1;37m    ^\u001b[0m\n\u001b[1;31mSyntaxError\u001b[0m\u001b[1;31m:\u001b[0m invalid syntax\n"
     ]
    }
   ],
   "source": [
    "class algotrading:\n",
    "    def __init__(self,ticker,start,end,sma_s,sma_l):\n",
    "        slef.ticker = ticker\n",
    "        self.start = start\n",
    "        self.end = end\n",
    "        self.sma_s = sma_s\n",
    "        self.sma_l = sma_l\n",
    "        self.ret = ret\n",
    "        self.STDS = STDS\n",
    "        \n",
    "    def download_data(self):\n",
    "        zf = yf.download(self.ticker,self.start,self.end)\n",
    "        zf[\"cc_returns\"] = zf.Close/zf.Close.shift(1)\n",
    "        zf[\"sma_s\"] = zf.Close.rolling(window = 5).mean()\n",
    "        zf[\"sma_l\"] = zf.Close.rolling(window = 20).mean()\n",
    "        data = zf.dropna()\n",
    "        return data\n",
    "    \n",
    "    def test_data(self):\n",
    "        data[\"position\"]  = np.where(data.sma_s>sma_l,1,0)\n",
    "        data[\"strategy_returns\"] = data.cc_returns * data.position\n",
    "        data = data.dropna()\n",
    "        self.ret = np.exp(data[\"strategy_returns\"].sum()\n",
    "        self.STDS = = data[\"strategy_returns\"].std()*np.sqrt(252)\n",
    "                     \n",
    "        return ret , STDS"
   ]
  },
  {
   "cell_type": "code",
   "execution_count": null,
   "id": "ae6f7154",
   "metadata": {},
   "outputs": [],
   "source": []
  },
  {
   "cell_type": "code",
   "execution_count": null,
   "id": "2c1f5809",
   "metadata": {},
   "outputs": [],
   "source": []
  },
  {
   "cell_type": "code",
   "execution_count": null,
   "id": "d7c9bb38",
   "metadata": {},
   "outputs": [],
   "source": []
  }
 ],
 "metadata": {
  "kernelspec": {
   "display_name": "Python 3 (ipykernel)",
   "language": "python",
   "name": "python3"
  },
  "language_info": {
   "codemirror_mode": {
    "name": "ipython",
    "version": 3
   },
   "file_extension": ".py",
   "mimetype": "text/x-python",
   "name": "python",
   "nbconvert_exporter": "python",
   "pygments_lexer": "ipython3",
   "version": "3.9.12"
  }
 },
 "nbformat": 4,
 "nbformat_minor": 5
}
