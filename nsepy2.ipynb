{
 "cells": [
  {
   "cell_type": "code",
   "execution_count": 1,
   "id": "6a71abc7",
   "metadata": {},
   "outputs": [],
   "source": [
    "import pandas as pd\n",
    "import numpy  as np\n",
    "import matplotlib.pyplot as plt\n",
    "import nsepy as ny\n",
    "from nsepy import get_history\n",
    "from datetime import date"
   ]
  },
  {
   "cell_type": "code",
   "execution_count": 2,
   "id": "961402d7",
   "metadata": {},
   "outputs": [],
   "source": [
    "ICICIBANK = get_history(\"ICICIBANK\", start = date(2022,1,1),end = date(2022,10,22))"
   ]
  },
  {
   "cell_type": "code",
   "execution_count": 3,
   "id": "58961ae7",
   "metadata": {},
   "outputs": [],
   "source": [
    "AXISBANK = get_history(\"AXISBANK\", start = date(2022,1,1),end = date(2022,10,22))"
   ]
  },
  {
   "cell_type": "code",
   "execution_count": 4,
   "id": "48e6cfd2",
   "metadata": {},
   "outputs": [
    {
     "data": {
      "text/plain": [
       "Date\n",
       "2022-01-03    764.70\n",
       "2022-01-04    772.85\n",
       "2022-01-05    788.05\n",
       "2022-01-06    785.05\n",
       "2022-01-07    793.25\n",
       "               ...  \n",
       "2022-10-17    885.20\n",
       "2022-10-18    896.90\n",
       "2022-10-19    892.10\n",
       "2022-10-20    888.65\n",
       "2022-10-21    907.15\n",
       "Name: Close, Length: 200, dtype: float64"
      ]
     },
     "execution_count": 4,
     "metadata": {},
     "output_type": "execute_result"
    }
   ],
   "source": [
    "ICICIBANK_close = ICICIBANK[\"Close\"]\n",
    "ICICIBANK_close"
   ]
  },
  {
   "cell_type": "code",
   "execution_count": 5,
   "id": "23c15cb7",
   "metadata": {},
   "outputs": [
    {
     "data": {
      "text/plain": [
       "Date\n",
       "2022-01-03    696.35\n",
       "2022-01-04    709.15\n",
       "2022-01-05    726.90\n",
       "2022-01-06    730.30\n",
       "2022-01-07    730.60\n",
       "               ...  \n",
       "2022-10-17    814.15\n",
       "2022-10-18    816.35\n",
       "2022-10-19    829.85\n",
       "2022-10-20    825.85\n",
       "2022-10-21    900.40\n",
       "Name: Close, Length: 200, dtype: float64"
      ]
     },
     "execution_count": 5,
     "metadata": {},
     "output_type": "execute_result"
    }
   ],
   "source": [
    "AXISBANK_close = AXISBANK[\"Close\"]\n",
    "AXISBANK_close"
   ]
  },
  {
   "cell_type": "code",
   "execution_count": 6,
   "id": "60377f8f",
   "metadata": {},
   "outputs": [],
   "source": []
  },
  {
   "cell_type": "code",
   "execution_count": 7,
   "id": "d8bdd50b",
   "metadata": {},
   "outputs": [
    {
     "ename": "AttributeError",
     "evalue": "'list' object has no attribute 'plot'",
     "output_type": "error",
     "traceback": [
      "\u001b[1;31m---------------------------------------------------------------------------\u001b[0m",
      "\u001b[1;31mAttributeError\u001b[0m                            Traceback (most recent call last)",
      "Input \u001b[1;32mIn [7]\u001b[0m, in \u001b[0;36m<cell line: 2>\u001b[1;34m()\u001b[0m\n\u001b[0;32m      1\u001b[0m get_ipython()\u001b[38;5;241m.\u001b[39mrun_line_magic(\u001b[38;5;124m'\u001b[39m\u001b[38;5;124mmatplotlib\u001b[39m\u001b[38;5;124m'\u001b[39m, \u001b[38;5;124m'\u001b[39m\u001b[38;5;124minline\u001b[39m\u001b[38;5;124m'\u001b[39m)\n\u001b[1;32m----> 2\u001b[0m \u001b[43mclose\u001b[49m\u001b[38;5;241;43m.\u001b[39;49m\u001b[43mplot\u001b[49m(x\u001b[38;5;241m=\u001b[39m\u001b[38;5;124m\"\u001b[39m\u001b[38;5;124mICICIBANK_close\u001b[39m\u001b[38;5;124m\"\u001b[39m,y\u001b[38;5;241m=\u001b[39m\u001b[38;5;124m\"\u001b[39m\u001b[38;5;124mAXISBANK_close\u001b[39m\u001b[38;5;124m\"\u001b[39m,figsize\u001b[38;5;241m=\u001b[39m(\u001b[38;5;241m15\u001b[39m,\u001b[38;5;241m8\u001b[39m),fontsize\u001b[38;5;241m=\u001b[39m\u001b[38;5;241m12\u001b[39m)\n",
      "\u001b[1;31mAttributeError\u001b[0m: 'list' object has no attribute 'plot'"
     ]
    }
   ],
   "source": []
  },
  {
   "cell_type": "code",
   "execution_count": null,
   "id": "446bb33f",
   "metadata": {},
   "outputs": [],
   "source": []
  },
  {
   "cell_type": "code",
   "execution_count": null,
   "id": "1d00c97f",
   "metadata": {},
   "outputs": [],
   "source": []
  }
 ],
 "metadata": {
  "kernelspec": {
   "display_name": "Python 3 (ipykernel)",
   "language": "python",
   "name": "python3"
  },
  "language_info": {
   "codemirror_mode": {
    "name": "ipython",
    "version": 3
   },
   "file_extension": ".py",
   "mimetype": "text/x-python",
   "name": "python",
   "nbconvert_exporter": "python",
   "pygments_lexer": "ipython3",
   "version": "3.9.12"
  }
 },
 "nbformat": 4,
 "nbformat_minor": 5
}
